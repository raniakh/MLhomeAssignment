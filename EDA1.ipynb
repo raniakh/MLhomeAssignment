{
 "cells": [
  {
   "cell_type": "code",
   "execution_count": 1,
   "id": "8b03501b-38bc-4093-abfb-d68776767777",
   "metadata": {},
   "outputs": [],
   "source": [
    "import numpy as np\n",
    "import pandas as pd\n",
    "import matplotlib.pyplot as plt\n",
    "import plotly.express as px\n",
    "import seaborn as sns"
   ]
  },
  {
   "cell_type": "code",
   "execution_count": 5,
   "id": "90eaa59f-e2e0-4b8c-937d-434fc06f57bd",
   "metadata": {},
   "outputs": [],
   "source": [
    "path ='data/MLhomeassignmentdata.xlsx'\n",
    "df = pd.read_excel(path)"
   ]
  },
  {
   "cell_type": "code",
   "execution_count": 6,
   "id": "fed216ca-f755-4234-8990-647d874eb2f2",
   "metadata": {},
   "outputs": [
    {
     "data": {
      "text/html": [
       "<div>\n",
       "<style scoped>\n",
       "    .dataframe tbody tr th:only-of-type {\n",
       "        vertical-align: middle;\n",
       "    }\n",
       "\n",
       "    .dataframe tbody tr th {\n",
       "        vertical-align: top;\n",
       "    }\n",
       "\n",
       "    .dataframe thead th {\n",
       "        text-align: right;\n",
       "    }\n",
       "</style>\n",
       "<table border=\"1\" class=\"dataframe\">\n",
       "  <thead>\n",
       "    <tr style=\"text-align: right;\">\n",
       "      <th></th>\n",
       "      <th>School_Name</th>\n",
       "      <th>Gender</th>\n",
       "      <th>Age</th>\n",
       "      <th>Home_Address_Type</th>\n",
       "      <th>Family_Size</th>\n",
       "      <th>Parents_Cohabitation_Status</th>\n",
       "      <th>Mother_Education</th>\n",
       "      <th>Father_Education</th>\n",
       "      <th>Mother_Job</th>\n",
       "      <th>Father_Job</th>\n",
       "      <th>...</th>\n",
       "      <th>In_Romantic_Relationship</th>\n",
       "      <th>Family_Relationship_Quality</th>\n",
       "      <th>Free_Time_After_School</th>\n",
       "      <th>Going_Out_With_Friends</th>\n",
       "      <th>Workday_Alcohol_Consumption</th>\n",
       "      <th>Weekend_Alcohol_Consumption</th>\n",
       "      <th>Current_Health_Status</th>\n",
       "      <th>School_Absences</th>\n",
       "      <th>Final_Grade</th>\n",
       "      <th>Learning_Disabilities</th>\n",
       "    </tr>\n",
       "  </thead>\n",
       "  <tbody>\n",
       "    <tr>\n",
       "      <th>0</th>\n",
       "      <td>GP</td>\n",
       "      <td>F</td>\n",
       "      <td>18</td>\n",
       "      <td>U</td>\n",
       "      <td>GT3</td>\n",
       "      <td>A</td>\n",
       "      <td>4</td>\n",
       "      <td>4.0</td>\n",
       "      <td>at_home</td>\n",
       "      <td>teacher</td>\n",
       "      <td>...</td>\n",
       "      <td>no</td>\n",
       "      <td>4.0</td>\n",
       "      <td>3.0</td>\n",
       "      <td>4.0</td>\n",
       "      <td>1.0</td>\n",
       "      <td>1.0</td>\n",
       "      <td>3.0</td>\n",
       "      <td>4</td>\n",
       "      <td>11</td>\n",
       "      <td>ADHD</td>\n",
       "    </tr>\n",
       "    <tr>\n",
       "      <th>1</th>\n",
       "      <td>GP</td>\n",
       "      <td>F</td>\n",
       "      <td>17</td>\n",
       "      <td>U</td>\n",
       "      <td>GT3</td>\n",
       "      <td>T</td>\n",
       "      <td>1</td>\n",
       "      <td>1.0</td>\n",
       "      <td>at_home</td>\n",
       "      <td>other</td>\n",
       "      <td>...</td>\n",
       "      <td>no</td>\n",
       "      <td>5.0</td>\n",
       "      <td>3.0</td>\n",
       "      <td>3.0</td>\n",
       "      <td>1.0</td>\n",
       "      <td>1.0</td>\n",
       "      <td>3.0</td>\n",
       "      <td>2</td>\n",
       "      <td>11</td>\n",
       "      <td>NaN</td>\n",
       "    </tr>\n",
       "    <tr>\n",
       "      <th>2</th>\n",
       "      <td>GP</td>\n",
       "      <td>F</td>\n",
       "      <td>15</td>\n",
       "      <td>U</td>\n",
       "      <td>LE3</td>\n",
       "      <td>T</td>\n",
       "      <td>1</td>\n",
       "      <td>1.0</td>\n",
       "      <td>at_home</td>\n",
       "      <td>other</td>\n",
       "      <td>...</td>\n",
       "      <td>NaN</td>\n",
       "      <td>4.0</td>\n",
       "      <td>3.0</td>\n",
       "      <td>2.0</td>\n",
       "      <td>2.0</td>\n",
       "      <td>3.0</td>\n",
       "      <td>3.0</td>\n",
       "      <td>6</td>\n",
       "      <td>12</td>\n",
       "      <td>Dyslexia,Near-sighted</td>\n",
       "    </tr>\n",
       "    <tr>\n",
       "      <th>3</th>\n",
       "      <td>GP</td>\n",
       "      <td>F</td>\n",
       "      <td>15</td>\n",
       "      <td>U</td>\n",
       "      <td>GT3</td>\n",
       "      <td>T</td>\n",
       "      <td>4</td>\n",
       "      <td>2.0</td>\n",
       "      <td>health</td>\n",
       "      <td>services</td>\n",
       "      <td>...</td>\n",
       "      <td>yes</td>\n",
       "      <td>3.0</td>\n",
       "      <td>2.0</td>\n",
       "      <td>2.0</td>\n",
       "      <td>1.0</td>\n",
       "      <td>1.0</td>\n",
       "      <td>5.0</td>\n",
       "      <td>0</td>\n",
       "      <td>14</td>\n",
       "      <td>NaN</td>\n",
       "    </tr>\n",
       "    <tr>\n",
       "      <th>4</th>\n",
       "      <td>GP</td>\n",
       "      <td>F</td>\n",
       "      <td>16</td>\n",
       "      <td>U</td>\n",
       "      <td>GT3</td>\n",
       "      <td>T</td>\n",
       "      <td>3</td>\n",
       "      <td>3.0</td>\n",
       "      <td>other</td>\n",
       "      <td>other</td>\n",
       "      <td>...</td>\n",
       "      <td>no</td>\n",
       "      <td>4.0</td>\n",
       "      <td>3.0</td>\n",
       "      <td>2.0</td>\n",
       "      <td>1.0</td>\n",
       "      <td>NaN</td>\n",
       "      <td>5.0</td>\n",
       "      <td>0</td>\n",
       "      <td>13</td>\n",
       "      <td>ADHD,None</td>\n",
       "    </tr>\n",
       "    <tr>\n",
       "      <th>5</th>\n",
       "      <td>GP</td>\n",
       "      <td>M</td>\n",
       "      <td>16</td>\n",
       "      <td>U</td>\n",
       "      <td>LE3</td>\n",
       "      <td>T</td>\n",
       "      <td>4</td>\n",
       "      <td>3.0</td>\n",
       "      <td>services</td>\n",
       "      <td>other</td>\n",
       "      <td>...</td>\n",
       "      <td>no</td>\n",
       "      <td>5.0</td>\n",
       "      <td>4.0</td>\n",
       "      <td>2.0</td>\n",
       "      <td>1.0</td>\n",
       "      <td>2.0</td>\n",
       "      <td>5.0</td>\n",
       "      <td>6</td>\n",
       "      <td>13</td>\n",
       "      <td>Far-sighted</td>\n",
       "    </tr>\n",
       "    <tr>\n",
       "      <th>6</th>\n",
       "      <td>GP</td>\n",
       "      <td>M</td>\n",
       "      <td>16</td>\n",
       "      <td>U</td>\n",
       "      <td>LE3</td>\n",
       "      <td>T</td>\n",
       "      <td>2</td>\n",
       "      <td>2.0</td>\n",
       "      <td>other</td>\n",
       "      <td>other</td>\n",
       "      <td>...</td>\n",
       "      <td>no</td>\n",
       "      <td>4.0</td>\n",
       "      <td>4.0</td>\n",
       "      <td>4.0</td>\n",
       "      <td>1.0</td>\n",
       "      <td>1.0</td>\n",
       "      <td>3.0</td>\n",
       "      <td>0</td>\n",
       "      <td>13</td>\n",
       "      <td>Near-sighted,Far-sighted</td>\n",
       "    </tr>\n",
       "    <tr>\n",
       "      <th>7</th>\n",
       "      <td>GP</td>\n",
       "      <td>F</td>\n",
       "      <td>17</td>\n",
       "      <td>U</td>\n",
       "      <td>GT3</td>\n",
       "      <td>A</td>\n",
       "      <td>4</td>\n",
       "      <td>4.0</td>\n",
       "      <td>other</td>\n",
       "      <td>teacher</td>\n",
       "      <td>...</td>\n",
       "      <td>no</td>\n",
       "      <td>4.0</td>\n",
       "      <td>1.0</td>\n",
       "      <td>4.0</td>\n",
       "      <td>1.0</td>\n",
       "      <td>1.0</td>\n",
       "      <td>1.0</td>\n",
       "      <td>2</td>\n",
       "      <td>13</td>\n",
       "      <td>Dyslexia</td>\n",
       "    </tr>\n",
       "    <tr>\n",
       "      <th>8</th>\n",
       "      <td>GP</td>\n",
       "      <td>M</td>\n",
       "      <td>15</td>\n",
       "      <td>U</td>\n",
       "      <td>LE3</td>\n",
       "      <td>A</td>\n",
       "      <td>3</td>\n",
       "      <td>2.0</td>\n",
       "      <td>services</td>\n",
       "      <td>other</td>\n",
       "      <td>...</td>\n",
       "      <td>no</td>\n",
       "      <td>4.0</td>\n",
       "      <td>2.0</td>\n",
       "      <td>2.0</td>\n",
       "      <td>1.0</td>\n",
       "      <td>1.0</td>\n",
       "      <td>1.0</td>\n",
       "      <td>0</td>\n",
       "      <td>17</td>\n",
       "      <td>Dyscalculia,Near-sighted</td>\n",
       "    </tr>\n",
       "    <tr>\n",
       "      <th>9</th>\n",
       "      <td>GP</td>\n",
       "      <td>M</td>\n",
       "      <td>15</td>\n",
       "      <td>U</td>\n",
       "      <td>GT3</td>\n",
       "      <td>T</td>\n",
       "      <td>3</td>\n",
       "      <td>4.0</td>\n",
       "      <td>other</td>\n",
       "      <td>other</td>\n",
       "      <td>...</td>\n",
       "      <td>no</td>\n",
       "      <td>5.0</td>\n",
       "      <td>5.0</td>\n",
       "      <td>1.0</td>\n",
       "      <td>1.0</td>\n",
       "      <td>1.0</td>\n",
       "      <td>5.0</td>\n",
       "      <td>0</td>\n",
       "      <td>13</td>\n",
       "      <td>NaN</td>\n",
       "    </tr>\n",
       "  </tbody>\n",
       "</table>\n",
       "<p>10 rows × 32 columns</p>\n",
       "</div>"
      ],
      "text/plain": [
       "  School_Name Gender  Age Home_Address_Type Family_Size  \\\n",
       "0          GP      F   18                 U         GT3   \n",
       "1          GP      F   17                 U         GT3   \n",
       "2          GP      F   15                 U         LE3   \n",
       "3          GP      F   15                 U         GT3   \n",
       "4          GP      F   16                 U         GT3   \n",
       "5          GP      M   16                 U         LE3   \n",
       "6          GP      M   16                 U         LE3   \n",
       "7          GP      F   17                 U         GT3   \n",
       "8          GP      M   15                 U         LE3   \n",
       "9          GP      M   15                 U         GT3   \n",
       "\n",
       "  Parents_Cohabitation_Status  Mother_Education  Father_Education Mother_Job  \\\n",
       "0                           A                 4               4.0    at_home   \n",
       "1                           T                 1               1.0    at_home   \n",
       "2                           T                 1               1.0    at_home   \n",
       "3                           T                 4               2.0     health   \n",
       "4                           T                 3               3.0      other   \n",
       "5                           T                 4               3.0   services   \n",
       "6                           T                 2               2.0      other   \n",
       "7                           A                 4               4.0      other   \n",
       "8                           A                 3               2.0   services   \n",
       "9                           T                 3               4.0      other   \n",
       "\n",
       "  Father_Job  ... In_Romantic_Relationship Family_Relationship_Quality  \\\n",
       "0    teacher  ...                       no                         4.0   \n",
       "1      other  ...                       no                         5.0   \n",
       "2      other  ...                      NaN                         4.0   \n",
       "3   services  ...                      yes                         3.0   \n",
       "4      other  ...                       no                         4.0   \n",
       "5      other  ...                       no                         5.0   \n",
       "6      other  ...                       no                         4.0   \n",
       "7    teacher  ...                       no                         4.0   \n",
       "8      other  ...                       no                         4.0   \n",
       "9      other  ...                       no                         5.0   \n",
       "\n",
       "   Free_Time_After_School  Going_Out_With_Friends  \\\n",
       "0                     3.0                     4.0   \n",
       "1                     3.0                     3.0   \n",
       "2                     3.0                     2.0   \n",
       "3                     2.0                     2.0   \n",
       "4                     3.0                     2.0   \n",
       "5                     4.0                     2.0   \n",
       "6                     4.0                     4.0   \n",
       "7                     1.0                     4.0   \n",
       "8                     2.0                     2.0   \n",
       "9                     5.0                     1.0   \n",
       "\n",
       "   Workday_Alcohol_Consumption Weekend_Alcohol_Consumption  \\\n",
       "0                          1.0                         1.0   \n",
       "1                          1.0                         1.0   \n",
       "2                          2.0                         3.0   \n",
       "3                          1.0                         1.0   \n",
       "4                          1.0                         NaN   \n",
       "5                          1.0                         2.0   \n",
       "6                          1.0                         1.0   \n",
       "7                          1.0                         1.0   \n",
       "8                          1.0                         1.0   \n",
       "9                          1.0                         1.0   \n",
       "\n",
       "  Current_Health_Status School_Absences Final_Grade     Learning_Disabilities  \n",
       "0                   3.0               4          11                      ADHD  \n",
       "1                   3.0               2          11                       NaN  \n",
       "2                   3.0               6          12     Dyslexia,Near-sighted  \n",
       "3                   5.0               0          14                       NaN  \n",
       "4                   5.0               0          13                 ADHD,None  \n",
       "5                   5.0               6          13               Far-sighted  \n",
       "6                   3.0               0          13  Near-sighted,Far-sighted  \n",
       "7                   1.0               2          13                  Dyslexia  \n",
       "8                   1.0               0          17  Dyscalculia,Near-sighted  \n",
       "9                   5.0               0          13                       NaN  \n",
       "\n",
       "[10 rows x 32 columns]"
      ]
     },
     "execution_count": 6,
     "metadata": {},
     "output_type": "execute_result"
    }
   ],
   "source": [
    "df.head(10)"
   ]
  },
  {
   "cell_type": "code",
   "execution_count": 7,
   "id": "24828955-ec1e-4e98-b0b1-56b58ffc4235",
   "metadata": {},
   "outputs": [
    {
     "data": {
      "text/plain": [
       "(649, 32)"
      ]
     },
     "execution_count": 7,
     "metadata": {},
     "output_type": "execute_result"
    }
   ],
   "source": [
    "df.shape"
   ]
  },
  {
   "cell_type": "code",
   "execution_count": 8,
   "id": "6c6667e0-24eb-4cd4-9565-786946457bad",
   "metadata": {},
   "outputs": [
    {
     "name": "stdout",
     "output_type": "stream",
     "text": [
      "<class 'pandas.core.frame.DataFrame'>\n",
      "RangeIndex: 649 entries, 0 to 648\n",
      "Data columns (total 32 columns):\n",
      " #   Column                       Non-Null Count  Dtype  \n",
      "---  ------                       --------------  -----  \n",
      " 0   School_Name                  649 non-null    object \n",
      " 1   Gender                       649 non-null    object \n",
      " 2   Age                          649 non-null    int64  \n",
      " 3   Home_Address_Type            649 non-null    object \n",
      " 4   Family_Size                  649 non-null    object \n",
      " 5   Parents_Cohabitation_Status  649 non-null    object \n",
      " 6   Mother_Education             649 non-null    int64  \n",
      " 7   Father_Education             584 non-null    float64\n",
      " 8   Mother_Job                   649 non-null    object \n",
      " 9   Father_Job                   649 non-null    object \n",
      " 10  School_Selection_Reason      649 non-null    object \n",
      " 11  Guardian                     649 non-null    object \n",
      " 12  Home_to_School_Travel_Time   584 non-null    float64\n",
      " 13  Weekly_Study_Time            584 non-null    float64\n",
      " 14  Past_Class_Failures          649 non-null    int64  \n",
      " 15  Extra_Educational_Support    584 non-null    object \n",
      " 16  Family_Educational_Support   584 non-null    object \n",
      " 17  Extra_Paid_Classes           584 non-null    object \n",
      " 18  Extra_Curricular_Activities  584 non-null    object \n",
      " 19  Attended_Nursery_School      584 non-null    object \n",
      " 20  Wants_Higher_Education       584 non-null    object \n",
      " 21  Internet_Access_At_Home      584 non-null    object \n",
      " 22  In_Romantic_Relationship     584 non-null    object \n",
      " 23  Family_Relationship_Quality  584 non-null    float64\n",
      " 24  Free_Time_After_School       584 non-null    float64\n",
      " 25  Going_Out_With_Friends       584 non-null    float64\n",
      " 26  Workday_Alcohol_Consumption  584 non-null    float64\n",
      " 27  Weekend_Alcohol_Consumption  584 non-null    float64\n",
      " 28  Current_Health_Status        584 non-null    float64\n",
      " 29  School_Absences              649 non-null    int64  \n",
      " 30  Final_Grade                  649 non-null    int64  \n",
      " 31  Learning_Disabilities        378 non-null    object \n",
      "dtypes: float64(9), int64(5), object(18)\n",
      "memory usage: 162.4+ KB\n"
     ]
    }
   ],
   "source": [
    "df.info()"
   ]
  },
  {
   "cell_type": "code",
   "execution_count": 9,
   "id": "bf30657a-1e12-44b5-b0ea-2c82e49dceaf",
   "metadata": {},
   "outputs": [
    {
     "data": {
      "text/html": [
       "<div>\n",
       "<style scoped>\n",
       "    .dataframe tbody tr th:only-of-type {\n",
       "        vertical-align: middle;\n",
       "    }\n",
       "\n",
       "    .dataframe tbody tr th {\n",
       "        vertical-align: top;\n",
       "    }\n",
       "\n",
       "    .dataframe thead th {\n",
       "        text-align: right;\n",
       "    }\n",
       "</style>\n",
       "<table border=\"1\" class=\"dataframe\">\n",
       "  <thead>\n",
       "    <tr style=\"text-align: right;\">\n",
       "      <th></th>\n",
       "      <th>Age</th>\n",
       "      <th>Mother_Education</th>\n",
       "      <th>Father_Education</th>\n",
       "      <th>Home_to_School_Travel_Time</th>\n",
       "      <th>Weekly_Study_Time</th>\n",
       "      <th>Past_Class_Failures</th>\n",
       "      <th>Family_Relationship_Quality</th>\n",
       "      <th>Free_Time_After_School</th>\n",
       "      <th>Going_Out_With_Friends</th>\n",
       "      <th>Workday_Alcohol_Consumption</th>\n",
       "      <th>Weekend_Alcohol_Consumption</th>\n",
       "      <th>Current_Health_Status</th>\n",
       "      <th>School_Absences</th>\n",
       "      <th>Final_Grade</th>\n",
       "    </tr>\n",
       "  </thead>\n",
       "  <tbody>\n",
       "    <tr>\n",
       "      <th>count</th>\n",
       "      <td>649.000000</td>\n",
       "      <td>649.000000</td>\n",
       "      <td>584.000000</td>\n",
       "      <td>584.000000</td>\n",
       "      <td>584.000000</td>\n",
       "      <td>649.000000</td>\n",
       "      <td>584.000000</td>\n",
       "      <td>584.000000</td>\n",
       "      <td>584.000000</td>\n",
       "      <td>584.000000</td>\n",
       "      <td>584.000000</td>\n",
       "      <td>584.000000</td>\n",
       "      <td>649.000000</td>\n",
       "      <td>649.000000</td>\n",
       "    </tr>\n",
       "    <tr>\n",
       "      <th>mean</th>\n",
       "      <td>16.744222</td>\n",
       "      <td>2.514638</td>\n",
       "      <td>2.308219</td>\n",
       "      <td>1.563356</td>\n",
       "      <td>1.926370</td>\n",
       "      <td>0.221880</td>\n",
       "      <td>3.928082</td>\n",
       "      <td>3.166096</td>\n",
       "      <td>3.207192</td>\n",
       "      <td>1.517123</td>\n",
       "      <td>2.299658</td>\n",
       "      <td>3.529110</td>\n",
       "      <td>3.659476</td>\n",
       "      <td>11.906009</td>\n",
       "    </tr>\n",
       "    <tr>\n",
       "      <th>std</th>\n",
       "      <td>1.218138</td>\n",
       "      <td>1.134552</td>\n",
       "      <td>1.094600</td>\n",
       "      <td>0.749678</td>\n",
       "      <td>0.828143</td>\n",
       "      <td>0.593235</td>\n",
       "      <td>0.959720</td>\n",
       "      <td>1.028654</td>\n",
       "      <td>1.178662</td>\n",
       "      <td>0.944269</td>\n",
       "      <td>1.290259</td>\n",
       "      <td>1.443923</td>\n",
       "      <td>4.640759</td>\n",
       "      <td>3.230656</td>\n",
       "    </tr>\n",
       "    <tr>\n",
       "      <th>min</th>\n",
       "      <td>15.000000</td>\n",
       "      <td>0.000000</td>\n",
       "      <td>0.000000</td>\n",
       "      <td>1.000000</td>\n",
       "      <td>1.000000</td>\n",
       "      <td>0.000000</td>\n",
       "      <td>1.000000</td>\n",
       "      <td>1.000000</td>\n",
       "      <td>1.000000</td>\n",
       "      <td>1.000000</td>\n",
       "      <td>1.000000</td>\n",
       "      <td>1.000000</td>\n",
       "      <td>0.000000</td>\n",
       "      <td>0.000000</td>\n",
       "    </tr>\n",
       "    <tr>\n",
       "      <th>25%</th>\n",
       "      <td>16.000000</td>\n",
       "      <td>2.000000</td>\n",
       "      <td>1.000000</td>\n",
       "      <td>1.000000</td>\n",
       "      <td>1.000000</td>\n",
       "      <td>0.000000</td>\n",
       "      <td>4.000000</td>\n",
       "      <td>3.000000</td>\n",
       "      <td>2.000000</td>\n",
       "      <td>1.000000</td>\n",
       "      <td>1.000000</td>\n",
       "      <td>2.000000</td>\n",
       "      <td>0.000000</td>\n",
       "      <td>10.000000</td>\n",
       "    </tr>\n",
       "    <tr>\n",
       "      <th>50%</th>\n",
       "      <td>17.000000</td>\n",
       "      <td>2.000000</td>\n",
       "      <td>2.000000</td>\n",
       "      <td>1.000000</td>\n",
       "      <td>2.000000</td>\n",
       "      <td>0.000000</td>\n",
       "      <td>4.000000</td>\n",
       "      <td>3.000000</td>\n",
       "      <td>3.000000</td>\n",
       "      <td>1.000000</td>\n",
       "      <td>2.000000</td>\n",
       "      <td>4.000000</td>\n",
       "      <td>2.000000</td>\n",
       "      <td>12.000000</td>\n",
       "    </tr>\n",
       "    <tr>\n",
       "      <th>75%</th>\n",
       "      <td>18.000000</td>\n",
       "      <td>4.000000</td>\n",
       "      <td>3.000000</td>\n",
       "      <td>2.000000</td>\n",
       "      <td>2.000000</td>\n",
       "      <td>0.000000</td>\n",
       "      <td>5.000000</td>\n",
       "      <td>4.000000</td>\n",
       "      <td>4.000000</td>\n",
       "      <td>2.000000</td>\n",
       "      <td>3.000000</td>\n",
       "      <td>5.000000</td>\n",
       "      <td>6.000000</td>\n",
       "      <td>14.000000</td>\n",
       "    </tr>\n",
       "    <tr>\n",
       "      <th>max</th>\n",
       "      <td>22.000000</td>\n",
       "      <td>4.000000</td>\n",
       "      <td>4.000000</td>\n",
       "      <td>4.000000</td>\n",
       "      <td>4.000000</td>\n",
       "      <td>3.000000</td>\n",
       "      <td>5.000000</td>\n",
       "      <td>5.000000</td>\n",
       "      <td>5.000000</td>\n",
       "      <td>5.000000</td>\n",
       "      <td>5.000000</td>\n",
       "      <td>5.000000</td>\n",
       "      <td>32.000000</td>\n",
       "      <td>19.000000</td>\n",
       "    </tr>\n",
       "  </tbody>\n",
       "</table>\n",
       "</div>"
      ],
      "text/plain": [
       "              Age  Mother_Education  Father_Education  \\\n",
       "count  649.000000        649.000000        584.000000   \n",
       "mean    16.744222          2.514638          2.308219   \n",
       "std      1.218138          1.134552          1.094600   \n",
       "min     15.000000          0.000000          0.000000   \n",
       "25%     16.000000          2.000000          1.000000   \n",
       "50%     17.000000          2.000000          2.000000   \n",
       "75%     18.000000          4.000000          3.000000   \n",
       "max     22.000000          4.000000          4.000000   \n",
       "\n",
       "       Home_to_School_Travel_Time  Weekly_Study_Time  Past_Class_Failures  \\\n",
       "count                  584.000000         584.000000           649.000000   \n",
       "mean                     1.563356           1.926370             0.221880   \n",
       "std                      0.749678           0.828143             0.593235   \n",
       "min                      1.000000           1.000000             0.000000   \n",
       "25%                      1.000000           1.000000             0.000000   \n",
       "50%                      1.000000           2.000000             0.000000   \n",
       "75%                      2.000000           2.000000             0.000000   \n",
       "max                      4.000000           4.000000             3.000000   \n",
       "\n",
       "       Family_Relationship_Quality  Free_Time_After_School  \\\n",
       "count                   584.000000              584.000000   \n",
       "mean                      3.928082                3.166096   \n",
       "std                       0.959720                1.028654   \n",
       "min                       1.000000                1.000000   \n",
       "25%                       4.000000                3.000000   \n",
       "50%                       4.000000                3.000000   \n",
       "75%                       5.000000                4.000000   \n",
       "max                       5.000000                5.000000   \n",
       "\n",
       "       Going_Out_With_Friends  Workday_Alcohol_Consumption  \\\n",
       "count              584.000000                   584.000000   \n",
       "mean                 3.207192                     1.517123   \n",
       "std                  1.178662                     0.944269   \n",
       "min                  1.000000                     1.000000   \n",
       "25%                  2.000000                     1.000000   \n",
       "50%                  3.000000                     1.000000   \n",
       "75%                  4.000000                     2.000000   \n",
       "max                  5.000000                     5.000000   \n",
       "\n",
       "       Weekend_Alcohol_Consumption  Current_Health_Status  School_Absences  \\\n",
       "count                   584.000000             584.000000       649.000000   \n",
       "mean                      2.299658               3.529110         3.659476   \n",
       "std                       1.290259               1.443923         4.640759   \n",
       "min                       1.000000               1.000000         0.000000   \n",
       "25%                       1.000000               2.000000         0.000000   \n",
       "50%                       2.000000               4.000000         2.000000   \n",
       "75%                       3.000000               5.000000         6.000000   \n",
       "max                       5.000000               5.000000        32.000000   \n",
       "\n",
       "       Final_Grade  \n",
       "count   649.000000  \n",
       "mean     11.906009  \n",
       "std       3.230656  \n",
       "min       0.000000  \n",
       "25%      10.000000  \n",
       "50%      12.000000  \n",
       "75%      14.000000  \n",
       "max      19.000000  "
      ]
     },
     "execution_count": 9,
     "metadata": {},
     "output_type": "execute_result"
    }
   ],
   "source": [
    "df.describe()"
   ]
  },
  {
   "cell_type": "code",
   "execution_count": 10,
   "id": "a1552666-f872-497b-aa64-8fb879ddbd29",
   "metadata": {},
   "outputs": [
    {
     "data": {
      "text/plain": [
       "School_Name                      0\n",
       "Gender                           0\n",
       "Age                              0\n",
       "Home_Address_Type                0\n",
       "Family_Size                      0\n",
       "Parents_Cohabitation_Status      0\n",
       "Mother_Education                 0\n",
       "Father_Education                65\n",
       "Mother_Job                       0\n",
       "Father_Job                       0\n",
       "School_Selection_Reason          0\n",
       "Guardian                         0\n",
       "Home_to_School_Travel_Time      65\n",
       "Weekly_Study_Time               65\n",
       "Past_Class_Failures              0\n",
       "Extra_Educational_Support       65\n",
       "Family_Educational_Support      65\n",
       "Extra_Paid_Classes              65\n",
       "Extra_Curricular_Activities     65\n",
       "Attended_Nursery_School         65\n",
       "Wants_Higher_Education          65\n",
       "Internet_Access_At_Home         65\n",
       "In_Romantic_Relationship        65\n",
       "Family_Relationship_Quality     65\n",
       "Free_Time_After_School          65\n",
       "Going_Out_With_Friends          65\n",
       "Workday_Alcohol_Consumption     65\n",
       "Weekend_Alcohol_Consumption     65\n",
       "Current_Health_Status           65\n",
       "School_Absences                  0\n",
       "Final_Grade                      0\n",
       "Learning_Disabilities          271\n",
       "dtype: int64"
      ]
     },
     "execution_count": 10,
     "metadata": {},
     "output_type": "execute_result"
    }
   ],
   "source": [
    "df.isna().sum()"
   ]
  },
  {
   "cell_type": "code",
   "execution_count": 13,
   "id": "3326bf9f-157a-4bd4-86ce-239019b3694c",
   "metadata": {},
   "outputs": [
    {
     "data": {
      "text/plain": [
       "(649, 32)"
      ]
     },
     "execution_count": 13,
     "metadata": {},
     "output_type": "execute_result"
    }
   ],
   "source": [
    "df.drop_duplicates().shape #no duplicates"
   ]
  },
  {
   "cell_type": "code",
   "execution_count": 14,
   "id": "827b4d5f-59ff-421b-a315-588965a71dc3",
   "metadata": {},
   "outputs": [
    {
     "data": {
      "text/plain": [
       "Age\n",
       "17    179\n",
       "16    177\n",
       "18    140\n",
       "15    112\n",
       "19     32\n",
       "20      6\n",
       "21      2\n",
       "22      1\n",
       "Name: count, dtype: int64"
      ]
     },
     "execution_count": 14,
     "metadata": {},
     "output_type": "execute_result"
    }
   ],
   "source": [
    "df['Age'].value_counts().sort_values(ascending=False)"
   ]
  },
  {
   "cell_type": "code",
   "execution_count": 15,
   "id": "ec1b4f5f-e3d4-4c77-880e-946458aaff99",
   "metadata": {},
   "outputs": [
    {
     "data": {
      "text/plain": [
       "Gender\n",
       "F    383\n",
       "M    266\n",
       "Name: count, dtype: int64"
      ]
     },
     "execution_count": 15,
     "metadata": {},
     "output_type": "execute_result"
    }
   ],
   "source": [
    "df['Gender'].value_counts()"
   ]
  },
  {
   "cell_type": "code",
   "execution_count": 16,
   "id": "9cc0851d-6ab0-440f-9b23-336fef2677b7",
   "metadata": {},
   "outputs": [
    {
     "name": "stderr",
     "output_type": "stream",
     "text": [
      "/Users/raniakhoury/anaconda3/envs/MLhouseAssignmentRania/lib/python3.11/site-packages/seaborn/_oldcore.py:1498: FutureWarning: is_categorical_dtype is deprecated and will be removed in a future version. Use isinstance(dtype, CategoricalDtype) instead\n",
      "  if pd.api.types.is_categorical_dtype(vector):\n",
      "/Users/raniakhoury/anaconda3/envs/MLhouseAssignmentRania/lib/python3.11/site-packages/seaborn/_oldcore.py:1119: FutureWarning: use_inf_as_na option is deprecated and will be removed in a future version. Convert inf values to NaN before operating instead.\n",
      "  with pd.option_context('mode.use_inf_as_na', True):\n"
     ]
    },
    {
     "data": {
      "text/plain": [
       "Text(0.5, 1.0, 'Students Age')"
      ]
     },
     "execution_count": 16,
     "metadata": {},
     "output_type": "execute_result"
    },
    {
     "data": {
      "image/png": "[encoded data removed]",
      "text/plain": [
       "<Figure size 640x480 with 1 Axes>"
      ]
     },
     "metadata": {},
     "output_type": "display_data"
    }
   ],
   "source": [
    "sns.histplot(data=df, x='Age')\n",
    "plt.title('Students Age')"
   ]
  },
  {
   "cell_type": "code",
   "execution_count": 40,
   "id": "24d7fe84-22ec-4572-ada2-5a2cb99cc9fb",
   "metadata": {},
   "outputs": [
    {
     "name": "stderr",
     "output_type": "stream",
     "text": [
      "/Users/raniakhoury/anaconda3/envs/MLhouseAssignmentRania/lib/python3.11/site-packages/seaborn/_oldcore.py:1498: FutureWarning: is_categorical_dtype is deprecated and will be removed in a future version. Use isinstance(dtype, CategoricalDtype) instead\n",
      "  if pd.api.types.is_categorical_dtype(vector):\n",
      "/Users/raniakhoury/anaconda3/envs/MLhouseAssignmentRania/lib/python3.11/site-packages/seaborn/_oldcore.py:1498: FutureWarning: is_categorical_dtype is deprecated and will be removed in a future version. Use isinstance(dtype, CategoricalDtype) instead\n",
      "  if pd.api.types.is_categorical_dtype(vector):\n",
      "/Users/raniakhoury/anaconda3/envs/MLhouseAssignmentRania/lib/python3.11/site-packages/seaborn/_oldcore.py:1498: FutureWarning: is_categorical_dtype is deprecated and will be removed in a future version. Use isinstance(dtype, CategoricalDtype) instead\n",
      "  if pd.api.types.is_categorical_dtype(vector):\n",
      "/Users/raniakhoury/anaconda3/envs/MLhouseAssignmentRania/lib/python3.11/site-packages/seaborn/_oldcore.py:1498: FutureWarning: is_categorical_dtype is deprecated and will be removed in a future version. Use isinstance(dtype, CategoricalDtype) instead\n",
      "  if pd.api.types.is_categorical_dtype(vector):\n",
      "/Users/raniakhoury/anaconda3/envs/MLhouseAssignmentRania/lib/python3.11/site-packages/seaborn/_oldcore.py:1498: FutureWarning: is_categorical_dtype is deprecated and will be removed in a future version. Use isinstance(dtype, CategoricalDtype) instead\n",
      "  if pd.api.types.is_categorical_dtype(vector):\n",
      "/Users/raniakhoury/anaconda3/envs/MLhouseAssignmentRania/lib/python3.11/site-packages/seaborn/_oldcore.py:1498: FutureWarning: is_categorical_dtype is deprecated and will be removed in a future version. Use isinstance(dtype, CategoricalDtype) instead\n",
      "  if pd.api.types.is_categorical_dtype(vector):\n"
     ]
    },
    {
     "data": {
      "image/png": "[encoded data removed]",
      "text/plain": [
       "<Figure size 562.236x500 with 1 Axes>"
      ]
     },
     "metadata": {},
     "output_type": "display_data"
    }
   ],
   "source": [
    "# sns.catplot(data=df, x='Family_Size', y='Age', kind='box', hue='Gender')\n",
    "# plt.show()\n",
    "sns.catplot(data=df, x='Family_Size', y='Age', hue='Gender', kind='violin')\n",
    "plt.show()"
   ]
  },
  {
   "cell_type": "code",
   "execution_count": 41,
   "id": "db10db94-ac98-49ce-bec6-7432c4c366bf",
   "metadata": {},
   "outputs": [
    {
     "name": "stderr",
     "output_type": "stream",
     "text": [
      "/Users/raniakhoury/anaconda3/envs/MLhouseAssignmentRania/lib/python3.11/site-packages/seaborn/_oldcore.py:1498: FutureWarning: is_categorical_dtype is deprecated and will be removed in a future version. Use isinstance(dtype, CategoricalDtype) instead\n",
      "  if pd.api.types.is_categorical_dtype(vector):\n",
      "/Users/raniakhoury/anaconda3/envs/MLhouseAssignmentRania/lib/python3.11/site-packages/seaborn/_oldcore.py:1498: FutureWarning: is_categorical_dtype is deprecated and will be removed in a future version. Use isinstance(dtype, CategoricalDtype) instead\n",
      "  if pd.api.types.is_categorical_dtype(vector):\n",
      "/Users/raniakhoury/anaconda3/envs/MLhouseAssignmentRania/lib/python3.11/site-packages/seaborn/_oldcore.py:1498: FutureWarning: is_categorical_dtype is deprecated and will be removed in a future version. Use isinstance(dtype, CategoricalDtype) instead\n",
      "  if pd.api.types.is_categorical_dtype(vector):\n"
     ]
    },
    {
     "data": {
      "text/plain": [
       "<Axes: xlabel='School_Absences', ylabel='Final_Grade'>"
      ]
     },
     "execution_count": 41,
     "metadata": {},
     "output_type": "execute_result"
    },
    {
     "data": {
      "image/png": "[encoded data removed]",
      "text/plain": [
       "<Figure size 640x480 with 1 Axes>"
      ]
     },
     "metadata": {},
     "output_type": "display_data"
    }
   ],
   "source": [
    "sns.barplot(data=df, x='School_Absences', y='Final_Grade')"
   ]
  },
  {
   "cell_type": "code",
   "execution_count": 45,
   "id": "5bcd1cae-8bc7-44ca-977c-f0ce8dba6481",
   "metadata": {},
   "outputs": [
    {
     "name": "stderr",
     "output_type": "stream",
     "text": [
      "/Users/raniakhoury/anaconda3/envs/MLhouseAssignmentRania/lib/python3.11/site-packages/seaborn/_oldcore.py:1498: FutureWarning: is_categorical_dtype is deprecated and will be removed in a future version. Use isinstance(dtype, CategoricalDtype) instead\n",
      "  if pd.api.types.is_categorical_dtype(vector):\n",
      "/Users/raniakhoury/anaconda3/envs/MLhouseAssignmentRania/lib/python3.11/site-packages/seaborn/_oldcore.py:1498: FutureWarning: is_categorical_dtype is deprecated and will be removed in a future version. Use isinstance(dtype, CategoricalDtype) instead\n",
      "  if pd.api.types.is_categorical_dtype(vector):\n",
      "/Users/raniakhoury/anaconda3/envs/MLhouseAssignmentRania/lib/python3.11/site-packages/seaborn/_oldcore.py:1498: FutureWarning: is_categorical_dtype is deprecated and will be removed in a future version. Use isinstance(dtype, CategoricalDtype) instead\n",
      "  if pd.api.types.is_categorical_dtype(vector):\n"
     ]
    },
    {
     "data": {
      "image/png": "[encoded data removed]",
      "text/plain": [
       "<Figure size 640x480 with 1 Axes>"
      ]
     },
     "metadata": {},
     "output_type": "display_data"
    },
    {
     "name": "stderr",
     "output_type": "stream",
     "text": [
      "/Users/raniakhoury/anaconda3/envs/MLhouseAssignmentRania/lib/python3.11/site-packages/seaborn/_oldcore.py:1498: FutureWarning: is_categorical_dtype is deprecated and will be removed in a future version. Use isinstance(dtype, CategoricalDtype) instead\n",
      "  if pd.api.types.is_categorical_dtype(vector):\n",
      "/Users/raniakhoury/anaconda3/envs/MLhouseAssignmentRania/lib/python3.11/site-packages/seaborn/_oldcore.py:1498: FutureWarning: is_categorical_dtype is deprecated and will be removed in a future version. Use isinstance(dtype, CategoricalDtype) instead\n",
      "  if pd.api.types.is_categorical_dtype(vector):\n",
      "/Users/raniakhoury/anaconda3/envs/MLhouseAssignmentRania/lib/python3.11/site-packages/seaborn/_oldcore.py:1498: FutureWarning: is_categorical_dtype is deprecated and will be removed in a future version. Use isinstance(dtype, CategoricalDtype) instead\n",
      "  if pd.api.types.is_categorical_dtype(vector):\n"
     ]
    },
    {
     "data": {
      "image/png": "[encoded data removed]",
      "text/plain": [
       "<Figure size 640x480 with 1 Axes>"
      ]
     },
     "metadata": {},
     "output_type": "display_data"
    }
   ],
   "source": [
    "sns.barplot(data=df, x='Mother_Education', y='Final_Grade')\n",
    "plt.title(\"Mother Education vs Student's Final Grade\")\n",
    "plt.show()\n",
    "sns.barplot(data=df, x='Father_Education', y='Final_Grade')\n",
    "plt.title(\"Father Education vs Student's Final Grade\")\n",
    "plt.show()"
   ]
  },
  {
   "cell_type": "code",
   "execution_count": 49,
   "id": "4c031940-d200-4cbd-8fd0-c82e5da622a6",
   "metadata": {},
   "outputs": [
    {
     "name": "stdout",
     "output_type": "stream",
     "text": [
      "(585, 32)\n"
     ]
    },
    {
     "data": {
      "text/html": [
       "<div>\n",
       "<style scoped>\n",
       "    .dataframe tbody tr th:only-of-type {\n",
       "        vertical-align: middle;\n",
       "    }\n",
       "\n",
       "    .dataframe tbody tr th {\n",
       "        vertical-align: top;\n",
       "    }\n",
       "\n",
       "    .dataframe thead th {\n",
       "        text-align: right;\n",
       "    }\n",
       "</style>\n",
       "<table border=\"1\" class=\"dataframe\">\n",
       "  <thead>\n",
       "    <tr style=\"text-align: right;\">\n",
       "      <th></th>\n",
       "      <th>School_Name</th>\n",
       "      <th>Gender</th>\n",
       "      <th>Age</th>\n",
       "      <th>Home_Address_Type</th>\n",
       "      <th>Family_Size</th>\n",
       "      <th>Parents_Cohabitation_Status</th>\n",
       "      <th>Mother_Education</th>\n",
       "      <th>Father_Education</th>\n",
       "      <th>Mother_Job</th>\n",
       "      <th>Father_Job</th>\n",
       "      <th>...</th>\n",
       "      <th>In_Romantic_Relationship</th>\n",
       "      <th>Family_Relationship_Quality</th>\n",
       "      <th>Free_Time_After_School</th>\n",
       "      <th>Going_Out_With_Friends</th>\n",
       "      <th>Workday_Alcohol_Consumption</th>\n",
       "      <th>Weekend_Alcohol_Consumption</th>\n",
       "      <th>Current_Health_Status</th>\n",
       "      <th>School_Absences</th>\n",
       "      <th>Final_Grade</th>\n",
       "      <th>Learning_Disabilities</th>\n",
       "    </tr>\n",
       "  </thead>\n",
       "  <tbody>\n",
       "    <tr>\n",
       "      <th>0</th>\n",
       "      <td>GP</td>\n",
       "      <td>F</td>\n",
       "      <td>18</td>\n",
       "      <td>U</td>\n",
       "      <td>GT3</td>\n",
       "      <td>A</td>\n",
       "      <td>4</td>\n",
       "      <td>4.0</td>\n",
       "      <td>at_home</td>\n",
       "      <td>teacher</td>\n",
       "      <td>...</td>\n",
       "      <td>no</td>\n",
       "      <td>4.0</td>\n",
       "      <td>3.0</td>\n",
       "      <td>4.0</td>\n",
       "      <td>1.0</td>\n",
       "      <td>1.0</td>\n",
       "      <td>3.0</td>\n",
       "      <td>4</td>\n",
       "      <td>11</td>\n",
       "      <td>ADHD</td>\n",
       "    </tr>\n",
       "    <tr>\n",
       "      <th>1</th>\n",
       "      <td>GP</td>\n",
       "      <td>F</td>\n",
       "      <td>17</td>\n",
       "      <td>U</td>\n",
       "      <td>GT3</td>\n",
       "      <td>T</td>\n",
       "      <td>1</td>\n",
       "      <td>1.0</td>\n",
       "      <td>at_home</td>\n",
       "      <td>other</td>\n",
       "      <td>...</td>\n",
       "      <td>no</td>\n",
       "      <td>5.0</td>\n",
       "      <td>3.0</td>\n",
       "      <td>3.0</td>\n",
       "      <td>1.0</td>\n",
       "      <td>1.0</td>\n",
       "      <td>3.0</td>\n",
       "      <td>2</td>\n",
       "      <td>11</td>\n",
       "      <td>NaN</td>\n",
       "    </tr>\n",
       "    <tr>\n",
       "      <th>2</th>\n",
       "      <td>GP</td>\n",
       "      <td>F</td>\n",
       "      <td>15</td>\n",
       "      <td>U</td>\n",
       "      <td>LE3</td>\n",
       "      <td>T</td>\n",
       "      <td>1</td>\n",
       "      <td>1.0</td>\n",
       "      <td>at_home</td>\n",
       "      <td>other</td>\n",
       "      <td>...</td>\n",
       "      <td>NaN</td>\n",
       "      <td>4.0</td>\n",
       "      <td>3.0</td>\n",
       "      <td>2.0</td>\n",
       "      <td>2.0</td>\n",
       "      <td>3.0</td>\n",
       "      <td>3.0</td>\n",
       "      <td>6</td>\n",
       "      <td>12</td>\n",
       "      <td>Dyslexia,Near-sighted</td>\n",
       "    </tr>\n",
       "    <tr>\n",
       "      <th>3</th>\n",
       "      <td>GP</td>\n",
       "      <td>F</td>\n",
       "      <td>15</td>\n",
       "      <td>U</td>\n",
       "      <td>GT3</td>\n",
       "      <td>T</td>\n",
       "      <td>4</td>\n",
       "      <td>2.0</td>\n",
       "      <td>health</td>\n",
       "      <td>services</td>\n",
       "      <td>...</td>\n",
       "      <td>yes</td>\n",
       "      <td>3.0</td>\n",
       "      <td>2.0</td>\n",
       "      <td>2.0</td>\n",
       "      <td>1.0</td>\n",
       "      <td>1.0</td>\n",
       "      <td>5.0</td>\n",
       "      <td>0</td>\n",
       "      <td>14</td>\n",
       "      <td>NaN</td>\n",
       "    </tr>\n",
       "    <tr>\n",
       "      <th>4</th>\n",
       "      <td>GP</td>\n",
       "      <td>F</td>\n",
       "      <td>16</td>\n",
       "      <td>U</td>\n",
       "      <td>GT3</td>\n",
       "      <td>T</td>\n",
       "      <td>3</td>\n",
       "      <td>3.0</td>\n",
       "      <td>other</td>\n",
       "      <td>other</td>\n",
       "      <td>...</td>\n",
       "      <td>no</td>\n",
       "      <td>4.0</td>\n",
       "      <td>3.0</td>\n",
       "      <td>2.0</td>\n",
       "      <td>1.0</td>\n",
       "      <td>NaN</td>\n",
       "      <td>5.0</td>\n",
       "      <td>0</td>\n",
       "      <td>13</td>\n",
       "      <td>ADHD,None</td>\n",
       "    </tr>\n",
       "    <tr>\n",
       "      <th>...</th>\n",
       "      <td>...</td>\n",
       "      <td>...</td>\n",
       "      <td>...</td>\n",
       "      <td>...</td>\n",
       "      <td>...</td>\n",
       "      <td>...</td>\n",
       "      <td>...</td>\n",
       "      <td>...</td>\n",
       "      <td>...</td>\n",
       "      <td>...</td>\n",
       "      <td>...</td>\n",
       "      <td>...</td>\n",
       "      <td>...</td>\n",
       "      <td>...</td>\n",
       "      <td>...</td>\n",
       "      <td>...</td>\n",
       "      <td>...</td>\n",
       "      <td>...</td>\n",
       "      <td>...</td>\n",
       "      <td>...</td>\n",
       "      <td>...</td>\n",
       "    </tr>\n",
       "    <tr>\n",
       "      <th>643</th>\n",
       "      <td>MS</td>\n",
       "      <td>F</td>\n",
       "      <td>18</td>\n",
       "      <td>R</td>\n",
       "      <td>GT3</td>\n",
       "      <td>T</td>\n",
       "      <td>4</td>\n",
       "      <td>4.0</td>\n",
       "      <td>teacher</td>\n",
       "      <td>at_home</td>\n",
       "      <td>...</td>\n",
       "      <td>yes</td>\n",
       "      <td>NaN</td>\n",
       "      <td>4.0</td>\n",
       "      <td>3.0</td>\n",
       "      <td>2.0</td>\n",
       "      <td>2.0</td>\n",
       "      <td>5.0</td>\n",
       "      <td>4</td>\n",
       "      <td>10</td>\n",
       "      <td>Far-sighted,ADHD</td>\n",
       "    </tr>\n",
       "    <tr>\n",
       "      <th>644</th>\n",
       "      <td>MS</td>\n",
       "      <td>F</td>\n",
       "      <td>19</td>\n",
       "      <td>R</td>\n",
       "      <td>GT3</td>\n",
       "      <td>T</td>\n",
       "      <td>2</td>\n",
       "      <td>3.0</td>\n",
       "      <td>services</td>\n",
       "      <td>other</td>\n",
       "      <td>...</td>\n",
       "      <td>no</td>\n",
       "      <td>5.0</td>\n",
       "      <td>4.0</td>\n",
       "      <td>2.0</td>\n",
       "      <td>1.0</td>\n",
       "      <td>2.0</td>\n",
       "      <td>5.0</td>\n",
       "      <td>4</td>\n",
       "      <td>10</td>\n",
       "      <td>NaN</td>\n",
       "    </tr>\n",
       "    <tr>\n",
       "      <th>645</th>\n",
       "      <td>MS</td>\n",
       "      <td>F</td>\n",
       "      <td>18</td>\n",
       "      <td>U</td>\n",
       "      <td>LE3</td>\n",
       "      <td>T</td>\n",
       "      <td>3</td>\n",
       "      <td>1.0</td>\n",
       "      <td>teacher</td>\n",
       "      <td>services</td>\n",
       "      <td>...</td>\n",
       "      <td>no</td>\n",
       "      <td>NaN</td>\n",
       "      <td>3.0</td>\n",
       "      <td>4.0</td>\n",
       "      <td>1.0</td>\n",
       "      <td>1.0</td>\n",
       "      <td>1.0</td>\n",
       "      <td>4</td>\n",
       "      <td>16</td>\n",
       "      <td>Far-sighted</td>\n",
       "    </tr>\n",
       "    <tr>\n",
       "      <th>647</th>\n",
       "      <td>MS</td>\n",
       "      <td>M</td>\n",
       "      <td>17</td>\n",
       "      <td>U</td>\n",
       "      <td>LE3</td>\n",
       "      <td>T</td>\n",
       "      <td>3</td>\n",
       "      <td>1.0</td>\n",
       "      <td>services</td>\n",
       "      <td>services</td>\n",
       "      <td>...</td>\n",
       "      <td>no</td>\n",
       "      <td>2.0</td>\n",
       "      <td>4.0</td>\n",
       "      <td>5.0</td>\n",
       "      <td>3.0</td>\n",
       "      <td>4.0</td>\n",
       "      <td>NaN</td>\n",
       "      <td>6</td>\n",
       "      <td>10</td>\n",
       "      <td>Dyscalculia,Far-sighted</td>\n",
       "    </tr>\n",
       "    <tr>\n",
       "      <th>648</th>\n",
       "      <td>MS</td>\n",
       "      <td>M</td>\n",
       "      <td>18</td>\n",
       "      <td>R</td>\n",
       "      <td>LE3</td>\n",
       "      <td>T</td>\n",
       "      <td>3</td>\n",
       "      <td>2.0</td>\n",
       "      <td>services</td>\n",
       "      <td>other</td>\n",
       "      <td>...</td>\n",
       "      <td>no</td>\n",
       "      <td>4.0</td>\n",
       "      <td>4.0</td>\n",
       "      <td>NaN</td>\n",
       "      <td>3.0</td>\n",
       "      <td>4.0</td>\n",
       "      <td>5.0</td>\n",
       "      <td>4</td>\n",
       "      <td>11</td>\n",
       "      <td>NaN</td>\n",
       "    </tr>\n",
       "  </tbody>\n",
       "</table>\n",
       "<p>585 rows × 32 columns</p>\n",
       "</div>"
      ],
      "text/plain": [
       "    School_Name Gender  Age Home_Address_Type Family_Size  \\\n",
       "0            GP      F   18                 U         GT3   \n",
       "1            GP      F   17                 U         GT3   \n",
       "2            GP      F   15                 U         LE3   \n",
       "3            GP      F   15                 U         GT3   \n",
       "4            GP      F   16                 U         GT3   \n",
       "..          ...    ...  ...               ...         ...   \n",
       "643          MS      F   18                 R         GT3   \n",
       "644          MS      F   19                 R         GT3   \n",
       "645          MS      F   18                 U         LE3   \n",
       "647          MS      M   17                 U         LE3   \n",
       "648          MS      M   18                 R         LE3   \n",
       "\n",
       "    Parents_Cohabitation_Status  Mother_Education  Father_Education  \\\n",
       "0                             A                 4               4.0   \n",
       "1                             T                 1               1.0   \n",
       "2                             T                 1               1.0   \n",
       "3                             T                 4               2.0   \n",
       "4                             T                 3               3.0   \n",
       "..                          ...               ...               ...   \n",
       "643                           T                 4               4.0   \n",
       "644                           T                 2               3.0   \n",
       "645                           T                 3               1.0   \n",
       "647                           T                 3               1.0   \n",
       "648                           T                 3               2.0   \n",
       "\n",
       "    Mother_Job Father_Job  ... In_Romantic_Relationship  \\\n",
       "0      at_home    teacher  ...                       no   \n",
       "1      at_home      other  ...                       no   \n",
       "2      at_home      other  ...                      NaN   \n",
       "3       health   services  ...                      yes   \n",
       "4        other      other  ...                       no   \n",
       "..         ...        ...  ...                      ...   \n",
       "643    teacher    at_home  ...                      yes   \n",
       "644   services      other  ...                       no   \n",
       "645    teacher   services  ...                       no   \n",
       "647   services   services  ...                       no   \n",
       "648   services      other  ...                       no   \n",
       "\n",
       "    Family_Relationship_Quality  Free_Time_After_School  \\\n",
       "0                           4.0                     3.0   \n",
       "1                           5.0                     3.0   \n",
       "2                           4.0                     3.0   \n",
       "3                           3.0                     2.0   \n",
       "4                           4.0                     3.0   \n",
       "..                          ...                     ...   \n",
       "643                         NaN                     4.0   \n",
       "644                         5.0                     4.0   \n",
       "645                         NaN                     3.0   \n",
       "647                         2.0                     4.0   \n",
       "648                         4.0                     4.0   \n",
       "\n",
       "     Going_Out_With_Friends  Workday_Alcohol_Consumption  \\\n",
       "0                       4.0                          1.0   \n",
       "1                       3.0                          1.0   \n",
       "2                       2.0                          2.0   \n",
       "3                       2.0                          1.0   \n",
       "4                       2.0                          1.0   \n",
       "..                      ...                          ...   \n",
       "643                     3.0                          2.0   \n",
       "644                     2.0                          1.0   \n",
       "645                     4.0                          1.0   \n",
       "647                     5.0                          3.0   \n",
       "648                     NaN                          3.0   \n",
       "\n",
       "    Weekend_Alcohol_Consumption Current_Health_Status School_Absences  \\\n",
       "0                           1.0                   3.0               4   \n",
       "1                           1.0                   3.0               2   \n",
       "2                           3.0                   3.0               6   \n",
       "3                           1.0                   5.0               0   \n",
       "4                           NaN                   5.0               0   \n",
       "..                          ...                   ...             ...   \n",
       "643                         2.0                   5.0               4   \n",
       "644                         2.0                   5.0               4   \n",
       "645                         1.0                   1.0               4   \n",
       "647                         4.0                   NaN               6   \n",
       "648                         4.0                   5.0               4   \n",
       "\n",
       "    Final_Grade    Learning_Disabilities  \n",
       "0            11                     ADHD  \n",
       "1            11                      NaN  \n",
       "2            12    Dyslexia,Near-sighted  \n",
       "3            14                      NaN  \n",
       "4            13                ADHD,None  \n",
       "..          ...                      ...  \n",
       "643          10         Far-sighted,ADHD  \n",
       "644          10                      NaN  \n",
       "645          16              Far-sighted  \n",
       "647          10  Dyscalculia,Far-sighted  \n",
       "648          11                      NaN  \n",
       "\n",
       "[585 rows x 32 columns]"
      ]
     },
     "execution_count": 49,
     "metadata": {},
     "output_type": "execute_result"
    }
   ],
   "source": [
    "# review rows with missing data\n",
    "\n",
    "mask = df.isna()\n",
    "mask = mask.any(axis=1)\n",
    "df_nas = df[mask]\n",
    "print(df_nas.shape)\n",
    "df_nas"
   ]
  },
  {
   "cell_type": "code",
   "execution_count": 52,
   "id": "a88d673d-3227-482d-bdd5-a3f639f3eb0a",
   "metadata": {},
   "outputs": [
    {
     "data": {
      "text/plain": [
       "School_Name                      0\n",
       "Gender                           0\n",
       "Age                              0\n",
       "Home_Address_Type                0\n",
       "Family_Size                      0\n",
       "Parents_Cohabitation_Status      0\n",
       "Mother_Education                 0\n",
       "Father_Education                65\n",
       "Mother_Job                       0\n",
       "Father_Job                       0\n",
       "School_Selection_Reason          0\n",
       "Guardian                         0\n",
       "Home_to_School_Travel_Time      65\n",
       "Weekly_Study_Time               65\n",
       "Past_Class_Failures              0\n",
       "Extra_Educational_Support       65\n",
       "Family_Educational_Support      65\n",
       "Extra_Paid_Classes              65\n",
       "Extra_Curricular_Activities     65\n",
       "Attended_Nursery_School         65\n",
       "Wants_Higher_Education          65\n",
       "Internet_Access_At_Home         65\n",
       "In_Romantic_Relationship        65\n",
       "Family_Relationship_Quality     65\n",
       "Free_Time_After_School          65\n",
       "Going_Out_With_Friends          65\n",
       "Workday_Alcohol_Consumption     65\n",
       "Weekend_Alcohol_Consumption     65\n",
       "Current_Health_Status           65\n",
       "School_Absences                  0\n",
       "Final_Grade                      0\n",
       "Learning_Disabilities          271\n",
       "dtype: int64"
      ]
     },
     "execution_count": 52,
     "metadata": {},
     "output_type": "execute_result"
    }
   ],
   "source": [
    "df.isna().sum()"
   ]
  },
  {
   "cell_type": "code",
   "execution_count": 54,
   "id": "f342462b-1152-4060-addf-ac2194a4236d",
   "metadata": {},
   "outputs": [
    {
     "data": {
      "text/plain": [
       "count    584.000000\n",
       "mean       2.308219\n",
       "std        1.094600\n",
       "min        0.000000\n",
       "25%        1.000000\n",
       "50%        2.000000\n",
       "75%        3.000000\n",
       "max        4.000000\n",
       "Name: Father_Education, dtype: float64"
      ]
     },
     "execution_count": 54,
     "metadata": {},
     "output_type": "execute_result"
    }
   ],
   "source": [
    "df['Father_Education'].describe()"
   ]
  },
  {
   "cell_type": "code",
   "execution_count": 56,
   "id": "fb54e9c1-4ef4-46b0-aff2-fd449220abd3",
   "metadata": {},
   "outputs": [],
   "source": [
    "import scipy.stats as stats"
   ]
  },
  {
   "cell_type": "code",
   "execution_count": 61,
   "id": "3d306a46-8a20-42be-9162-75d817c745f9",
   "metadata": {},
   "outputs": [
    {
     "data": {
      "image/png": "[encoded data removed]",
      "text/plain": [
       "<Figure size 640x480 with 1 Axes>"
      ]
     },
     "metadata": {},
     "output_type": "display_data"
    }
   ],
   "source": [
    "measurments=np.random.normal(loc=20, scale=5, size=df['Father_Education'].size)\n",
    "stats.probplot(df['Father_Education'], dist='norm', plot=plt)\n",
    "plt.show() #Father Education variable is not Normal, therefore we cannot extrapolate NaN values with mean."
   ]
  },
  {
   "cell_type": "code",
   "execution_count": 65,
   "id": "cfe9efd3-95cd-4814-a9f6-8137dc4aaf64",
   "metadata": {},
   "outputs": [],
   "source": [
    "df['Father_Education'] = df['Father_Education'].fillna(df['Father_Education'].median())"
   ]
  },
  {
   "cell_type": "code",
   "execution_count": 67,
   "id": "fd05f9dd-46c0-40d3-98f1-a52907c4667f",
   "metadata": {},
   "outputs": [
    {
     "name": "stdout",
     "output_type": "stream",
     "text": [
      "<class 'pandas.core.frame.DataFrame'>\n",
      "RangeIndex: 649 entries, 0 to 648\n",
      "Data columns (total 32 columns):\n",
      " #   Column                       Non-Null Count  Dtype  \n",
      "---  ------                       --------------  -----  \n",
      " 0   School_Name                  649 non-null    object \n",
      " 1   Gender                       649 non-null    object \n",
      " 2   Age                          649 non-null    int64  \n",
      " 3   Home_Address_Type            649 non-null    object \n",
      " 4   Family_Size                  649 non-null    object \n",
      " 5   Parents_Cohabitation_Status  649 non-null    object \n",
      " 6   Mother_Education             649 non-null    int64  \n",
      " 7   Father_Education             649 non-null    float64\n",
      " 8   Mother_Job                   649 non-null    object \n",
      " 9   Father_Job                   649 non-null    object \n",
      " 10  School_Selection_Reason      649 non-null    object \n",
      " 11  Guardian                     649 non-null    object \n",
      " 12  Home_to_School_Travel_Time   584 non-null    float64\n",
      " 13  Weekly_Study_Time            584 non-null    float64\n",
      " 14  Past_Class_Failures          649 non-null    int64  \n",
      " 15  Extra_Educational_Support    584 non-null    object \n",
      " 16  Family_Educational_Support   584 non-null    object \n",
      " 17  Extra_Paid_Classes           584 non-null    object \n",
      " 18  Extra_Curricular_Activities  584 non-null    object \n",
      " 19  Attended_Nursery_School      584 non-null    object \n",
      " 20  Wants_Higher_Education       584 non-null    object \n",
      " 21  Internet_Access_At_Home      584 non-null    object \n",
      " 22  In_Romantic_Relationship     584 non-null    object \n",
      " 23  Family_Relationship_Quality  584 non-null    float64\n",
      " 24  Free_Time_After_School       584 non-null    float64\n",
      " 25  Going_Out_With_Friends       584 non-null    float64\n",
      " 26  Workday_Alcohol_Consumption  584 non-null    float64\n",
      " 27  Weekend_Alcohol_Consumption  584 non-null    float64\n",
      " 28  Current_Health_Status        584 non-null    float64\n",
      " 29  School_Absences              649 non-null    int64  \n",
      " 30  Final_Grade                  649 non-null    int64  \n",
      " 31  Learning_Disabilities        378 non-null    object \n",
      "dtypes: float64(9), int64(5), object(18)\n",
      "memory usage: 162.4+ KB\n"
     ]
    }
   ],
   "source": [
    "df.info()"
   ]
  },
  {
   "cell_type": "code",
   "execution_count": 93,
   "id": "3d95099c-f309-4e74-8866-8e1fa881d2b0",
   "metadata": {},
   "outputs": [
    {
     "data": {
      "text/plain": [
       "0     2.0\n",
       "1     1.0\n",
       "2     1.0\n",
       "3     NaN\n",
       "4     1.0\n",
       "5     1.0\n",
       "6     1.0\n",
       "7     2.0\n",
       "8     1.0\n",
       "9     NaN\n",
       "10    1.0\n",
       "11    3.0\n",
       "12    1.0\n",
       "13    2.0\n",
       "14    1.0\n",
       "15    1.0\n",
       "16    1.0\n",
       "17    3.0\n",
       "18    NaN\n",
       "19    1.0\n",
       "Name: Home_to_School_Travel_Time, dtype: float64"
      ]
     },
     "execution_count": 93,
     "metadata": {},
     "output_type": "execute_result"
    }
   ],
   "source": [
    "df['Home_to_School_Travel_Time'].describe()"
   ]
  },
  {
   "cell_type": "code",
   "execution_count": 94,
   "id": "2039fbef-3c4f-4703-a52a-24c10c13c01e",
   "metadata": {},
   "outputs": [],
   "source": [
    "df['Home_to_School_Travel_Time'] = df['Home_to_School_Travel_Time'].fillna(df['Home_to_School_Travel_Time'].median())"
   ]
  },
  {
   "cell_type": "code",
   "execution_count": 87,
   "id": "ac3c28ea-1782-4736-99f6-b685d6660f1a",
   "metadata": {},
   "outputs": [
    {
     "data": {
      "text/plain": [
       "(65, 13)"
      ]
     },
     "execution_count": 87,
     "metadata": {},
     "output_type": "execute_result"
    }
   ],
   "source": [
    "# data = df.drop('Learning_Disabilities', axis=1)\n",
    "# data = data.select_dtypes(['int64', 'float64'])\n",
    "# test_data = data[data['Home_to_School_Travel_Time'].isnull()]\n",
    "# data.dropna(inplace=True)\n",
    "# x_train = data.drop('Home_to_School_Travel_Time', axis=1)\n",
    "# x_test = test_data.drop('Home_to_School_Travel_Time', axis=1)\n",
    "# y_train = data['Home_to_School_Travel_Time']\n",
    "# x_test.shape\n",
    "\n",
    "# from sklearn.linear_model import LinearRegression\n",
    "\n",
    "# model = LinearRegression()\n",
    "# model.fit(x_train, y_train)\n",
    "# y_pred = model.predict(x_test)"
   ]
  },
  {
   "cell_type": "code",
   "execution_count": 98,
   "id": "94359b10-0883-4f92-8d9a-610940c703bb",
   "metadata": {},
   "outputs": [
    {
     "data": {
      "text/plain": [
       "count    584.000000\n",
       "mean       1.926370\n",
       "std        0.828143\n",
       "min        1.000000\n",
       "25%        1.000000\n",
       "50%        2.000000\n",
       "75%        2.000000\n",
       "max        4.000000\n",
       "Name: Weekly_Study_Time, dtype: float64"
      ]
     },
     "execution_count": 98,
     "metadata": {},
     "output_type": "execute_result"
    }
   ],
   "source": [
    "df['Weekly_Study_Time'].describe()"
   ]
  },
  {
   "cell_type": "code",
   "execution_count": 99,
   "id": "933e4686-932f-42de-adac-5eb4b1fe1a86",
   "metadata": {},
   "outputs": [],
   "source": [
    "df['Weekly_Study_Time'] = df['Weekly_Study_Time'].fillna(df['Weekly_Study_Time'].median())"
   ]
  },
  {
   "cell_type": "code",
   "execution_count": 126,
   "id": "87ee4786-e087-409a-abb5-e02590e06ca6",
   "metadata": {},
   "outputs": [],
   "source": [
    "df['Family_Relationship_Quality'] = df['Family_Relationship_Quality'].fillna(df['Family_Relationship_Quality'].median())\n",
    "df['Free_Time_After_School'] = df['Free_Time_After_School'].fillna(df['Free_Time_After_School'].median())\n",
    "df['Going_Out_With_Friends'] = df['Going_Out_With_Friends'].fillna(df['Going_Out_With_Friends'].median())\n",
    "df['Workday_Alcohol_Consumption'] = df['Workday_Alcohol_Consumption'].fillna(df['Workday_Alcohol_Consumption'].median())\n",
    "df['Weekend_Alcohol_Consumption'] = df['Weekend_Alcohol_Consumption'].fillna(df['Weekend_Alcohol_Consumption'].median())\n",
    "df['Current_Health_Status'] = df['Current_Health_Status'].fillna(df['Current_Health_Status'].median())\n"
   ]
  },
  {
   "cell_type": "code",
   "execution_count": 128,
   "id": "3f8dfc58-57db-4e88-836d-5520a01c6281",
   "metadata": {},
   "outputs": [
    {
     "data": {
      "text/plain": [
       "School_Name                      0\n",
       "Gender                           0\n",
       "Age                              0\n",
       "Home_Address_Type                0\n",
       "Family_Size                      0\n",
       "Parents_Cohabitation_Status      0\n",
       "Mother_Education                 0\n",
       "Father_Education                 0\n",
       "Mother_Job                       0\n",
       "Father_Job                       0\n",
       "School_Selection_Reason          0\n",
       "Guardian                         0\n",
       "Home_to_School_Travel_Time       0\n",
       "Weekly_Study_Time                0\n",
       "Past_Class_Failures              0\n",
       "Extra_Educational_Support       65\n",
       "Family_Educational_Support      65\n",
       "Extra_Paid_Classes              65\n",
       "Extra_Curricular_Activities     65\n",
       "Attended_Nursery_School         65\n",
       "Wants_Higher_Education          65\n",
       "Internet_Access_At_Home         65\n",
       "In_Romantic_Relationship        65\n",
       "Family_Relationship_Quality      0\n",
       "Free_Time_After_School           0\n",
       "Going_Out_With_Friends           0\n",
       "Workday_Alcohol_Consumption      0\n",
       "Weekend_Alcohol_Consumption      0\n",
       "Current_Health_Status            0\n",
       "School_Absences                  0\n",
       "Final_Grade                      0\n",
       "Learning_Disabilities          271\n",
       "dtype: int64"
      ]
     },
     "execution_count": 128,
     "metadata": {},
     "output_type": "execute_result"
    }
   ],
   "source": [
    "df.isna().sum()"
   ]
  },
  {
   "cell_type": "code",
   "execution_count": 132,
   "id": "2e44b94f-7bbc-4723-87da-e0f44851e245",
   "metadata": {},
   "outputs": [
    {
     "name": "stdout",
     "output_type": "stream",
     "text": [
      "count     584\n",
      "unique      2\n",
      "top        no\n",
      "freq      524\n",
      "Name: Extra_Educational_Support, dtype: object\n",
      "Extra_Educational_Support\n",
      "no     524\n",
      "yes     60\n",
      "Name: count, dtype: int64\n"
     ]
    },
    {
     "data": {
      "text/plain": [
       "65"
      ]
     },
     "execution_count": 132,
     "metadata": {},
     "output_type": "execute_result"
    }
   ],
   "source": [
    "print(df['Extra_Educational_Support'].describe())\n",
    "print(df['Extra_Educational_Support'].value_counts())\n",
    "df['Extra_Educational_Support'].isna().sum()"
   ]
  },
  {
   "cell_type": "code",
   "execution_count": 134,
   "id": "05b731f6-3f9c-45cd-943a-f674bc9f0e50",
   "metadata": {},
   "outputs": [
    {
     "data": {
      "text/plain": [
       "0       yes\n",
       "1    Unkown\n",
       "2       yes\n",
       "3        no\n",
       "4        no\n",
       "5        no\n",
       "6        no\n",
       "7       yes\n",
       "8        no\n",
       "9        no\n",
       "Name: Extra_Educational_Support, dtype: object"
      ]
     },
     "execution_count": 134,
     "metadata": {},
     "output_type": "execute_result"
    }
   ],
   "source": [
    "df['Extra_Educational_Support'] = df['Extra_Educational_Support'].fillna('Unkown')\n",
    "df['Extra_Educational_Support'][:10]"
   ]
  },
  {
   "cell_type": "code",
   "execution_count": 135,
   "id": "e005e770-a1b8-4b17-9274-d2505da2cf01",
   "metadata": {},
   "outputs": [
    {
     "name": "stdout",
     "output_type": "stream",
     "text": [
      "count     584\n",
      "unique      2\n",
      "top       yes\n",
      "freq      361\n",
      "Name: Family_Educational_Support, dtype: object\n",
      "Family_Educational_Support\n",
      "yes    361\n",
      "no     223\n",
      "Name: count, dtype: int64\n"
     ]
    },
    {
     "data": {
      "text/plain": [
       "65"
      ]
     },
     "execution_count": 135,
     "metadata": {},
     "output_type": "execute_result"
    }
   ],
   "source": [
    "print(df['Family_Educational_Support'].describe())\n",
    "print(df['Family_Educational_Support'].value_counts())\n",
    "df['Family_Educational_Support'].isna().sum()"
   ]
  },
  {
   "cell_type": "code",
   "execution_count": 137,
   "id": "8f02419e-cec7-4862-aa18-c21900f0800e",
   "metadata": {},
   "outputs": [
    {
     "data": {
      "text/plain": [
       "0     no\n",
       "1    yes\n",
       "2     no\n",
       "3    yes\n",
       "4    yes\n",
       "5    yes\n",
       "6     no\n",
       "7    yes\n",
       "8    yes\n",
       "9    yes\n",
       "Name: Family_Educational_Support, dtype: object"
      ]
     },
     "execution_count": 137,
     "metadata": {},
     "output_type": "execute_result"
    }
   ],
   "source": [
    "df['Family_Educational_Support'] = df['Family_Educational_Support'].fillna('Unkown')\n",
    "df['Family_Educational_Support'][:10]"
   ]
  },
  {
   "cell_type": "code",
   "execution_count": 138,
   "id": "1947de45-808e-45d4-a2a2-13e91e20a366",
   "metadata": {},
   "outputs": [
    {
     "name": "stdout",
     "output_type": "stream",
     "text": [
      "count     584\n",
      "unique      2\n",
      "top        no\n",
      "freq      549\n",
      "Name: Extra_Paid_Classes, dtype: object\n",
      "Extra_Paid_Classes\n",
      "no     549\n",
      "yes     35\n",
      "Name: count, dtype: int64\n"
     ]
    },
    {
     "data": {
      "text/plain": [
       "65"
      ]
     },
     "execution_count": 138,
     "metadata": {},
     "output_type": "execute_result"
    }
   ],
   "source": [
    "print(df['Extra_Paid_Classes'].describe())\n",
    "print(df['Extra_Paid_Classes'].value_counts())\n",
    "df['Extra_Paid_Classes'].isna().sum()"
   ]
  },
  {
   "cell_type": "code",
   "execution_count": 139,
   "id": "885d18d6-bafb-4118-befb-db7ff381239e",
   "metadata": {},
   "outputs": [
    {
     "data": {
      "text/plain": [
       "0        no\n",
       "1    Unkown\n",
       "2        no\n",
       "3        no\n",
       "4        no\n",
       "5        no\n",
       "6        no\n",
       "7        no\n",
       "8        no\n",
       "9        no\n",
       "Name: Extra_Paid_Classes, dtype: object"
      ]
     },
     "execution_count": 139,
     "metadata": {},
     "output_type": "execute_result"
    }
   ],
   "source": [
    "df['Extra_Paid_Classes'] = df['Extra_Paid_Classes'].fillna('Unkown')\n",
    "df['Extra_Paid_Classes'][:10]"
   ]
  },
  {
   "cell_type": "code",
   "execution_count": 140,
   "id": "5bde845d-e55d-477e-8446-125a0acd3b9e",
   "metadata": {},
   "outputs": [
    {
     "name": "stdout",
     "output_type": "stream",
     "text": [
      "count     584\n",
      "unique      2\n",
      "top        no\n",
      "freq      304\n",
      "Name: Extra_Curricular_Activities, dtype: object\n",
      "Extra_Curricular_Activities\n",
      "no     304\n",
      "yes    280\n",
      "Name: count, dtype: int64\n"
     ]
    },
    {
     "data": {
      "text/plain": [
       "65"
      ]
     },
     "execution_count": 140,
     "metadata": {},
     "output_type": "execute_result"
    }
   ],
   "source": [
    "print(df['Extra_Curricular_Activities'].describe())\n",
    "print(df['Extra_Curricular_Activities'].value_counts())\n",
    "df['Extra_Curricular_Activities'].isna().sum()"
   ]
  },
  {
   "cell_type": "code",
   "execution_count": 141,
   "id": "04723e27-75fd-4e24-9105-143493acefcf",
   "metadata": {},
   "outputs": [],
   "source": [
    "df['Extra_Curricular_Activities'] = df['Extra_Curricular_Activities'].fillna('Unkown')\n",
    "df['Attended_Nursery_School'] = df['Attended_Nursery_School'].fillna('Unkown')\n",
    "df['Wants_Higher_Education'] = df['Wants_Higher_Education'].fillna('Unkown')\n",
    "df['Internet_Access_At_Home'] = df['Internet_Access_At_Home'].fillna('Unkown')\n",
    "df['In_Romantic_Relationship'] = df['In_Romantic_Relationship'].fillna('Unkown')\n",
    "df['Learning_Disabilities'] = df['Learning_Disabilities'].fillna('Unkown')"
   ]
  },
  {
   "cell_type": "code",
   "execution_count": 143,
   "id": "1e4a14f5-79e0-4cdf-9bfa-8ad714fe58c8",
   "metadata": {},
   "outputs": [
    {
     "name": "stdout",
     "output_type": "stream",
     "text": [
      "<class 'pandas.core.frame.DataFrame'>\n",
      "RangeIndex: 649 entries, 0 to 648\n",
      "Data columns (total 32 columns):\n",
      " #   Column                       Non-Null Count  Dtype  \n",
      "---  ------                       --------------  -----  \n",
      " 0   School_Name                  649 non-null    object \n",
      " 1   Gender                       649 non-null    object \n",
      " 2   Age                          649 non-null    int64  \n",
      " 3   Home_Address_Type            649 non-null    object \n",
      " 4   Family_Size                  649 non-null    object \n",
      " 5   Parents_Cohabitation_Status  649 non-null    object \n",
      " 6   Mother_Education             649 non-null    int64  \n",
      " 7   Father_Education             649 non-null    float64\n",
      " 8   Mother_Job                   649 non-null    object \n",
      " 9   Father_Job                   649 non-null    object \n",
      " 10  School_Selection_Reason      649 non-null    object \n",
      " 11  Guardian                     649 non-null    object \n",
      " 12  Home_to_School_Travel_Time   649 non-null    float64\n",
      " 13  Weekly_Study_Time            649 non-null    float64\n",
      " 14  Past_Class_Failures          649 non-null    int64  \n",
      " 15  Extra_Educational_Support    649 non-null    object \n",
      " 16  Family_Educational_Support   649 non-null    object \n",
      " 17  Extra_Paid_Classes           649 non-null    object \n",
      " 18  Extra_Curricular_Activities  649 non-null    object \n",
      " 19  Attended_Nursery_School      649 non-null    object \n",
      " 20  Wants_Higher_Education       649 non-null    object \n",
      " 21  Internet_Access_At_Home      649 non-null    object \n",
      " 22  In_Romantic_Relationship     649 non-null    object \n",
      " 23  Family_Relationship_Quality  649 non-null    float64\n",
      " 24  Free_Time_After_School       649 non-null    float64\n",
      " 25  Going_Out_With_Friends       649 non-null    float64\n",
      " 26  Workday_Alcohol_Consumption  649 non-null    float64\n",
      " 27  Weekend_Alcohol_Consumption  649 non-null    float64\n",
      " 28  Current_Health_Status        649 non-null    float64\n",
      " 29  School_Absences              649 non-null    int64  \n",
      " 30  Final_Grade                  649 non-null    int64  \n",
      " 31  Learning_Disabilities        649 non-null    object \n",
      "dtypes: float64(9), int64(5), object(18)\n",
      "memory usage: 162.4+ KB\n"
     ]
    }
   ],
   "source": [
    "df.info()"
   ]
  },
  {
   "cell_type": "code",
   "execution_count": null,
   "id": "14c65ea9-08b8-47cf-8128-6f3878156ef7",
   "metadata": {},
   "outputs": [],
   "source": []
  }
 ],
 "metadata": {
  "kernelspec": {
   "display_name": "MLhouseAssignmentRania",
   "language": "python",
   "name": "mlhouseassignmentrania"
  },
  "language_info": {
   "codemirror_mode": {
    "name": "ipython",
    "version": 3
   },
   "file_extension": ".py",
   "mimetype": "text/x-python",
   "name": "python",
   "nbconvert_exporter": "python",
   "pygments_lexer": "ipython3",
   "version": "3.11.5"
  }
 },
 "nbformat": 4,
 "nbformat_minor": 5
}
